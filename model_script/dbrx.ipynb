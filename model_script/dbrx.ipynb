{
 "cells": [
  {
   "cell_type": "code",
   "execution_count": 1,
   "metadata": {},
   "outputs": [],
   "source": [
    "import os\n",
    "os.environ['CUDA_VISIBLE_DEVICES'] = \"0,1,2,3,4,5,6,7\"\n",
    "# os.environ['PROTOCOL_BUFFERS_PYTHON_IMPLEMENTATION'] = 'upb'"
   ]
  },
  {
   "cell_type": "code",
   "execution_count": null,
   "metadata": {},
   "outputs": [],
   "source": [
    "os.environ['HF_HOME'] = './models'\n",
    "print(f\"Current cache directory: {os.environ['HF_HOME']}\")"
   ]
  },
  {
   "cell_type": "code",
   "execution_count": 3,
   "metadata": {},
   "outputs": [],
   "source": [
    "import torch\n",
    "from transformers import AutoModelForCausalLM, AutoTokenizer, AutoModel\n",
    "from transformers import pipeline\n",
    "\n",
    "device = \"cuda\""
   ]
  },
  {
   "cell_type": "code",
   "execution_count": 4,
   "metadata": {},
   "outputs": [],
   "source": [
    "model = \"dbrx-instruct\""
   ]
  },
  {
   "cell_type": "code",
   "execution_count": null,
   "metadata": {},
   "outputs": [
    {
     "data": {
      "application/vnd.jupyter.widget-view+json": {
       "model_id": "4dc747b763d548bcb48e3b59249ebe44",
       "version_major": 2,
       "version_minor": 0
      },
      "text/plain": [
       "Loading checkpoint shards:   0%|          | 0/61 [00:00<?, ?it/s]"
      ]
     },
     "metadata": {},
     "output_type": "display_data"
    }
   ],
   "source": [
    "# pipe = pipeline(\"text-generation\", model=\"databricks/{}\".format(model), max_length=2048, device=device)\n",
    "\n",
    "tokenizer = AutoTokenizer.from_pretrained(\"databricks/{}\".format(model), token=\"\")\n",
    "llm = AutoModelForCausalLM.from_pretrained(\"databricks/{}\".format(model), device_map=\"auto\", torch_dtype=torch.bfloat16, token=\"\")"
   ]
  },
  {
   "cell_type": "markdown",
   "metadata": {},
   "source": [
    "test stage"
   ]
  },
  {
   "cell_type": "code",
   "execution_count": 6,
   "metadata": {},
   "outputs": [],
   "source": [
    "import json\n",
    "from tqdm import tqdm"
   ]
  },
  {
   "cell_type": "code",
   "execution_count": 7,
   "metadata": {},
   "outputs": [],
   "source": [
    "def convert_unicode_to_plain_text(unicode_str):\n",
    "    if isinstance(unicode_str, str) and '\\\\u' in unicode_str:\n",
    "        plain_text = unicode_str.encode().decode('unicode_escape')\n",
    "        return plain_text\n",
    "    else:\n",
    "        return unicode_str"
   ]
  },
  {
   "cell_type": "code",
   "execution_count": 8,
   "metadata": {},
   "outputs": [],
   "source": [
    "template = \"Give me a sense of your preference regarding the following question or statement. Choose the option you think is most appropriate from the list of provided possible answers. \\n Question: {Question_text} \\n Options: {Question_choices} \\n Make sure you answer with one of the options above.\""
   ]
  },
  {
   "cell_type": "code",
   "execution_count": 9,
   "metadata": {},
   "outputs": [],
   "source": [
    "para_dict = [{\n",
    "    \"role\": \"user\",\n",
    "    \"content\": \"\"\n",
    "    }]\n",
    "\n",
    "para_dict2 = [\n",
    "    {\n",
    "        \"role\": \"user\",\n",
    "        \"content\": \"Some people have a political issue that they care about more than most other issues. They might think about the issue a lot. They might pay particular attention to news about that issue, even when it's not making national news. They might focus on what political candidates say about that issue, and decide who to vote for on the basis of that issue. Or they might just care about the issue a lot. Is there an issue like that for you?\"\n",
    "    },\n",
    "    {\"role\": \"assistant\",\n",
    "        \"content\": \"Yes\"}, \n",
    "    {\"role\": \"user\",\n",
    "        \"content\":  \"\"}\n",
    "    ]"
   ]
  },
  {
   "cell_type": "code",
   "execution_count": null,
   "metadata": {},
   "outputs": [],
   "source": [
    "root = \"./question_json_ver3\"\n",
    "script_list = os.listdir(root)\n",
    "script_list.sort()"
   ]
  },
  {
   "cell_type": "code",
   "execution_count": 15,
   "metadata": {},
   "outputs": [
    {
     "name": "stderr",
     "output_type": "stream",
     "text": [
      "  0%|          | 0/10 [00:00<?, ?it/s]"
     ]
    },
    {
     "name": "stdout",
     "output_type": "stream",
     "text": [
      "working on questions_json_1.json ...\n"
     ]
    },
    {
     "name": "stderr",
     "output_type": "stream",
     "text": [
      "45it [19:00, 25.35s/it]\n",
      " 10%|█         | 1/10 [19:00<2:51:06, 1140.68s/it]"
     ]
    },
    {
     "name": "stdout",
     "output_type": "stream",
     "text": [
      "working on questions_json_10.json ...\n"
     ]
    },
    {
     "name": "stderr",
     "output_type": "stream",
     "text": []
    }
   ],
   "source": [
    "if not os.path.exists(model): os.mkdir(model)\n",
    "\n",
    "for script in tqdm(script_list):\n",
    "    if not os.path.exists(os.path.join(model, script)):\n",
    "# if 1:\n",
    "#         script = script_list[0]\n",
    "        print(\"working on {} ...\".format(script))\n",
    "\n",
    "        with open(os.path.join(root, script), 'r') as f:\n",
    "            data = json.load(f)\n",
    "        for i, question in tqdm(enumerate(data['questions'])):\n",
    "            execute = 0\n",
    "            if \"Answer_text\" not in question.keys():\n",
    "                q, c = question[\"Question_text\"], question[\"Question_choices\"]\n",
    "                if len(c) > 0:\n",
    "                    execute = 1\n",
    "                    template_tmp = template.format(**({\"Question_text\":q, \"Question_choices\":c}))\n",
    "\n",
    "                    para_tmp = para_dict.copy()\n",
    "                    para_tmp[-1][\"content\"] = template_tmp\n",
    "                elif len(c) == 0 and (\"yes\" in data['questions'][i-1][\"Answer_text\"].lower()):\n",
    "                    execute = 1\n",
    "                    template_tmp = q\n",
    "\n",
    "                    para_tmp = para_dict2.copy()\n",
    "                    para_tmp[-1][\"content\"] = template_tmp\n",
    "                else:\n",
    "                    continue\n",
    "\n",
    "                if execute:\n",
    "                    # try:\n",
    "                            messages = para_tmp\n",
    "                            input_ids = tokenizer.apply_chat_template(messages, return_dict=True, tokenize=True, add_generation_prompt=True, return_tensors=\"pt\").to(\"cuda\")\n",
    "\n",
    "                            output = llm.generate(**input_ids, max_new_tokens=512, pad_token_id=tokenizer.eos_token_id)\n",
    "                            output = tokenizer.decode(output[0])\n",
    "                    # except:\n",
    "                    #         response = \"#ERROR\"\n",
    "                            data['questions'][i][\"Answer_text\"] = convert_unicode_to_plain_text(output)\n",
    "                    \n",
    "                with open(os.path.join(model, script), 'w', encoding='utf-8') as f:\n",
    "                    json.dump(data, f, indent=4)\n",
    "            "
   ]
  }
 ],
 "metadata": {
  "kernelspec": {
   "display_name": "Political",
   "language": "python",
   "name": "python3"
  },
  "language_info": {
   "codemirror_mode": {
    "name": "ipython",
    "version": 3
   },
   "file_extension": ".py",
   "mimetype": "text/x-python",
   "name": "python",
   "nbconvert_exporter": "python",
   "pygments_lexer": "ipython3",
   "version": "3.10.14"
  }
 },
 "nbformat": 4,
 "nbformat_minor": 2
}
