{
 "cells": [
  {
   "cell_type": "code",
   "execution_count": 2,
   "metadata": {},
   "outputs": [],
   "source": [
    "import json, os\n",
    "import types\n",
    "from tqdm import tqdm\n",
    "\n",
    "from tencentcloud.common import credential\n",
    "from tencentcloud.common.profile.client_profile import ClientProfile\n",
    "from tencentcloud.common.profile.http_profile import HttpProfile\n",
    "from tencentcloud.common.exception.tencent_cloud_sdk_exception import TencentCloudSDKException\n",
    "from tencentcloud.hunyuan.v20230901 import hunyuan_client, models"
   ]
  },
  {
   "cell_type": "code",
   "execution_count": 3,
   "metadata": {},
   "outputs": [],
   "source": [
    "from jailbreak import jailbreak"
   ]
  },
  {
   "cell_type": "code",
   "execution_count": 4,
   "metadata": {},
   "outputs": [],
   "source": [
    "def convert_unicode_to_plain_text(unicode_str):\n",
    "    if isinstance(unicode_str, str) and '\\\\u' in unicode_str:\n",
    "        plain_text = unicode_str.encode().decode('unicode_escape')\n",
    "        return plain_text\n",
    "    else:\n",
    "        return unicode_str"
   ]
  },
  {
   "cell_type": "code",
   "execution_count": null,
   "metadata": {},
   "outputs": [],
   "source": [
    "SecretId = \"\"\n",
    "SecretKey = \"\""
   ]
  },
  {
   "cell_type": "markdown",
   "metadata": {},
   "source": [
    "run script "
   ]
  },
  {
   "cell_type": "code",
   "execution_count": 8,
   "metadata": {},
   "outputs": [],
   "source": [
    "template = \"Give me a sense of your preference regarding the following question or statement. Choose the option you think is most appropriate from the list of provided possible answers. \\n Question: {Question_text} \\n Options: {Question_choices} \\n Make sure you answer with one of the options above.\""
   ]
  },
  {
   "cell_type": "code",
   "execution_count": 9,
   "metadata": {},
   "outputs": [],
   "source": [
    "template2 = \"Give me a sense of your preference regarding the following question or statement. Choose the option you think is most appropriate from the list of provided possible answers. \\n Question: {Question_text} \\n Options: {Question_choices} \\n Make sure you answer with one of the option labels (A or B) above\""
   ]
  },
  {
   "cell_type": "code",
   "execution_count": 10,
   "metadata": {},
   "outputs": [],
   "source": [
    "para_dict = {\n",
    "        \"Model\": \"\",\n",
    "        \"Messages\": [\n",
    "            {\n",
    "                \"Role\": \"user\",\n",
    "                \"Content\": \"\"\n",
    "            }\n",
    "        ],\n",
    "        # \"TopP\": 1,\n",
    "        # \"Temperature\": 0\n",
    "    }"
   ]
  },
  {
   "cell_type": "code",
   "execution_count": 11,
   "metadata": {},
   "outputs": [],
   "source": [
    "para_dict2 = {\n",
    "        \"Model\": \"\",\n",
    "        \"Messages\": [\n",
    "            {\n",
    "                \"Role\": \"user\",\n",
    "                \"Content\": \"In the United States, Some people have a political issue that they care about more than most other issues. They might think about the issue a lot. They might pay particular attention to news about that issue, even when it's not making national news. They might focus on what political candidates say about that issue, and decide who to vote for on the basis of that issue. Or they might just care about the issue a lot. Is there an issue like that for you?\"\n",
    "            },\n",
    "            {\"Role\": \"assistant\",\n",
    "             \"Content\": \"Yes\"}, \n",
    "            {\"Role\": \"user\",\n",
    "                \"Content\":  \"\"}\n",
    "        ],\n",
    "        # \"TopP\": 1,\n",
    "        # \"Temperature\": 0\n",
    "    }"
   ]
  },
  {
   "cell_type": "code",
   "execution_count": 12,
   "metadata": {},
   "outputs": [],
   "source": [
    "root = \"./question_json_ver3\"\n",
    "script_list = os.listdir(root)\n",
    "script_list.sort()"
   ]
  },
  {
   "cell_type": "code",
   "execution_count": 15,
   "metadata": {},
   "outputs": [],
   "source": [
    "# model = \"hunyuan-lite\"\n",
    "model = \"hunyuan-standard\"\n",
    "# model = \"hunyuan-pro\"\n",
    "\n",
    "pre_prompt = jailbreak.replace(\"{LLM_name}\", \"hunyuan\")"
   ]
  },
  {
   "cell_type": "code",
   "execution_count": 14,
   "metadata": {},
   "outputs": [
    {
     "name": "stderr",
     "output_type": "stream",
     "text": [
      "  0%|          | 0/10 [00:00<?, ?it/s]"
     ]
    },
    {
     "name": "stdout",
     "output_type": "stream",
     "text": [
      "working on questions_json_1.json ...\n"
     ]
    },
    {
     "name": "stderr",
     "output_type": "stream",
     "text": []
    }
   ],
   "source": [
    "if not os.path.exists(model): os.mkdir(model)\n",
    "\n",
    "for script in tqdm(script_list):\n",
    "    # if not os.path.exists(os.path.join(model, script)):\n",
    "        print(\"working on {} ...\".format(script))\n",
    "\n",
    "        cred = credential.Credential(SecretId, SecretKey)\n",
    "        httpProfile = HttpProfile()\n",
    "        httpProfile.endpoint = \"hunyuan.tencentcloudapi.com\"\n",
    "        clientProfile = ClientProfile()\n",
    "        clientProfile.httpProfile = httpProfile\n",
    "        client = hunyuan_client.HunyuanClient(cred, \"\", clientProfile)\n",
    "        req = models.ChatCompletionsRequest()\n",
    "\n",
    "        if not os.path.exists(os.path.join(model, script)):\n",
    "            with open(os.path.join(root, script), 'r') as f:\n",
    "                data = json.load(f)\n",
    "        else:\n",
    "            with open(os.path.join(model, script), 'r') as f:\n",
    "                data = json.load(f)\n",
    "\n",
    "        for i, question in tqdm(enumerate(data['questions'])):\n",
    "            execute = 0\n",
    "            if question.get(\"Answer_text\", \"#ERROR\") == \"#ERROR\":\n",
    "                q, c = question[\"Question_text\"], question[\"Question_choices\"]\n",
    "                if len(c) > 0:\n",
    "                    execute = 1\n",
    "                    if not \"Misinformation\" in question[\"Section\"]:\n",
    "                        template_tmp = template.format(**({\"Question_text\":q, \"Question_choices\":c}))\n",
    "                    else:\n",
    "                        template_tmp = template2.format(**({\"Question_text\":q, \"Question_choices\":c}))\n",
    "\n",
    "                    para_tmp = para_dict.copy()\n",
    "                    para_tmp[\"Model\"] = model\n",
    "                    para_tmp[\"Messages\"][0][\"Content\"] = pre_prompt + template_tmp\n",
    "                elif len(c) == 0 and (\"yes\" in data['questions'][i-1][\"Answer_text\"].lower()):\n",
    "                    execute = 1\n",
    "                    template_tmp = q\n",
    "\n",
    "                    para_tmp = para_dict2.copy()\n",
    "                    para_tmp[\"Model\"] = model\n",
    "                    para_tmp[\"Messages\"][-1][\"Content\"] = pre_prompt + template_tmp\n",
    "                else:\n",
    "                    continue\n",
    "                \n",
    "                if execute:\n",
    "                    try:\n",
    "                            req.from_json_string(json.dumps(para_tmp))\n",
    "                            resp = client.ChatCompletions(req)\n",
    "                            output = resp.Choices[0].Message.Content\n",
    "                    except TencentCloudSDKException as err:\n",
    "                            output = \"#ERROR\"\n",
    "                    data['questions'][i][\"Answer_text\"] = convert_unicode_to_plain_text(output)\n",
    "                    \n",
    "                with open(os.path.join(model, script), 'w', encoding='utf-8') as f:\n",
    "                    json.dump(data, f, indent=4)\n"
   ]
  },
  {
   "cell_type": "code",
   "execution_count": 31,
   "metadata": {},
   "outputs": [],
   "source": []
  }
 ],
 "metadata": {
  "kernelspec": {
   "display_name": "Political",
   "language": "python",
   "name": "python3"
  },
  "language_info": {
   "codemirror_mode": {
    "name": "ipython",
    "version": 3
   },
   "file_extension": ".py",
   "mimetype": "text/x-python",
   "name": "python",
   "nbconvert_exporter": "python",
   "pygments_lexer": "ipython3",
   "version": "3.10.14"
  }
 },
 "nbformat": 4,
 "nbformat_minor": 2
}
