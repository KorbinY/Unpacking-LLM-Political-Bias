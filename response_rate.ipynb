{
 "cells": [
  {
   "cell_type": "code",
   "execution_count": 1,
   "metadata": {},
   "outputs": [],
   "source": [
    "import pandas as pd\n",
    "import numpy as np\n",
    "from scipy import stats\n",
    "import json, os, re\n",
    "\n",
    "from itertools import combinations\n",
    "import itertools\n",
    "\n",
    "import matplotlib.pyplot as plt\n",
    "from matplotlib.lines import Line2D\n",
    "import seaborn as sns\n",
    "\n",
    "from adjustText import adjust_text\n",
    "\n",
    "from sklearn.decomposition import PCA\n",
    "from sklearn.cluster import KMeans\n",
    "from sklearn.impute import SimpleImputer\n",
    "from sklearn.preprocessing import StandardScaler\n",
    "\n",
    "from sklearn.metrics import silhouette_score as s_score\n",
    "from sklearn.metrics import davies_bouldin_score as d_score\n",
    "\n",
    "from model_list import model_order, color_list, custom_colors"
   ]
  },
  {
   "cell_type": "markdown",
   "metadata": {},
   "source": [
    "origin+jailbreak version"
   ]
  },
  {
   "cell_type": "code",
   "execution_count": 2,
   "metadata": {},
   "outputs": [],
   "source": [
    "records = pd.read_csv('report/stat_records_jailbreak.csv',)\n",
    "records['question'] = records['sec'] + ' ' + records['id'].astype(str)"
   ]
  },
  {
   "cell_type": "code",
   "execution_count": 3,
   "metadata": {},
   "outputs": [],
   "source": [
    "response_rate = pd.DataFrame(index=records['llm'].unique(), columns=records['sec'].unique())"
   ]
  },
  {
   "cell_type": "code",
   "execution_count": 4,
   "metadata": {},
   "outputs": [
    {
     "name": "stderr",
     "output_type": "stream",
     "text": [
      "/tmp/ipykernel_1678867/117641935.py:11: RuntimeWarning: invalid value encountered in scalar divide\n",
      "  response_rate.at[llm, sec] = round(total_n/total, 4)\n"
     ]
    }
   ],
   "source": [
    "# Loop over each combination of 'sec' and 'llm'\n",
    "for sec in records['sec'].unique():\n",
    "    for llm in records['llm'].unique():\n",
    "        filtered_df = records[(records['sec'] == sec) & (records['llm'] == llm)]\n",
    "        if 'Important' in sec:\n",
    "            filtered_df = filtered_df[filtered_df['id'] != 1]\n",
    "        # Filter the original df for this sec and llm, then divide the 'n' value by 10\n",
    "        # Assuming there is a single value of 'n' for each combination of 'sec' and 'llm'\n",
    "        total_n = filtered_df['n'].sum() \n",
    "        total = len(filtered_df) * 10\n",
    "        response_rate.at[llm, sec] = round(total_n/total, 4)\n",
    "\n",
    "# Convert df_new to numeric in case of NaNs due to missing values\n",
    "df_new = response_rate.apply(pd.to_numeric, errors='coerce')"
   ]
  },
  {
   "cell_type": "code",
   "execution_count": 7,
   "metadata": {},
   "outputs": [],
   "source": [
    "df_new = df_new.sort_index()\n",
    "mean_row = df_new.mean()\n",
    "df_new = pd.concat([df_new, mean_row.rename('Average').to_frame().T])\n",
    "df_new.to_csv('ResponseRateJailbreakBySection.csv', index = True)"
   ]
  },
  {
   "cell_type": "markdown",
   "metadata": {},
   "source": [
    "origin version"
   ]
  },
  {
   "cell_type": "code",
   "execution_count": 8,
   "metadata": {},
   "outputs": [],
   "source": [
    "records = pd.read_csv('report/stat_records_origin.csv',)\n",
    "records['question'] = records['sec'] + ' ' + records['id'].astype(str)"
   ]
  },
  {
   "cell_type": "code",
   "execution_count": 9,
   "metadata": {},
   "outputs": [],
   "source": [
    "response_rate = pd.DataFrame(index=records['llm'].unique(), columns=records['sec'].unique())"
   ]
  },
  {
   "cell_type": "code",
   "execution_count": 10,
   "metadata": {},
   "outputs": [],
   "source": [
    "# Loop over each combination of 'sec' and 'llm'\n",
    "for sec in records['sec'].unique():\n",
    "    for llm in records['llm'].unique():\n",
    "        filtered_df = records[(records['sec'] == sec) & (records['llm'] == llm)]\n",
    "        if 'Important' in sec:\n",
    "            filtered_df = filtered_df[filtered_df['id'] != 1]\n",
    "        # Filter the original df for this sec and llm, then divide the 'n' value by 10\n",
    "        # Assuming there is a single value of 'n' for each combination of 'sec' and 'llm'\n",
    "        total_n = filtered_df['n'].sum() \n",
    "        total = len(filtered_df) * 10\n",
    "        response_rate.at[llm, sec] = round(total_n/total, 4)\n",
    "\n",
    "# Convert df_new to numeric in case of NaNs due to missing values\n",
    "df_new = response_rate.apply(pd.to_numeric, errors='coerce')"
   ]
  },
  {
   "cell_type": "code",
   "execution_count": 11,
   "metadata": {},
   "outputs": [],
   "source": [
    "df_new = df_new.sort_index()\n",
    "mean_row = df_new.mean()\n",
    "df_new = pd.concat([df_new, mean_row.rename('Average').to_frame().T])"
   ]
  },
  {
   "cell_type": "code",
   "execution_count": 12,
   "metadata": {},
   "outputs": [],
   "source": [
    "df_new.to_csv('ResponseRateOriginBySection.csv', index = True)"
   ]
  },
  {
   "cell_type": "markdown",
   "metadata": {},
   "source": [
    "jail break only version"
   ]
  },
  {
   "cell_type": "code",
   "execution_count": 13,
   "metadata": {},
   "outputs": [],
   "source": [
    "records = pd.read_csv('report/stat_records_jailbreak_only.csv',)\n",
    "records['question'] = records['sec'] + ' ' + records['id'].astype(str)"
   ]
  },
  {
   "cell_type": "code",
   "execution_count": 14,
   "metadata": {},
   "outputs": [],
   "source": [
    "response_rate = pd.DataFrame(index=records['llm'].unique(), columns=records['sec'].unique())"
   ]
  },
  {
   "cell_type": "code",
   "execution_count": 15,
   "metadata": {},
   "outputs": [],
   "source": [
    "# Loop over each combination of 'sec' and 'llm'\n",
    "for sec in records['sec'].unique():\n",
    "    for llm in records['llm'].unique():\n",
    "        filtered_df = records[(records['sec'] == sec) & (records['llm'] == llm)]\n",
    "        if 'Important' in sec:\n",
    "            filtered_df = filtered_df[filtered_df['id'] != 1]\n",
    "        # Filter the original df for this sec and llm, then divide the 'n' value by 10\n",
    "        # Assuming there is a single value of 'n' for each combination of 'sec' and 'llm'\n",
    "        total_n = filtered_df['n'].sum() \n",
    "        total = len(filtered_df) * 10\n",
    "        response_rate.at[llm, sec] = round(total_n/total, 4)\n",
    "\n",
    "# Convert df_new to numeric in case of NaNs due to missing values\n",
    "df_new = response_rate.apply(pd.to_numeric, errors='coerce')"
   ]
  },
  {
   "cell_type": "code",
   "execution_count": 16,
   "metadata": {},
   "outputs": [],
   "source": [
    "df_new = df_new.sort_index()\n",
    "mean_row = df_new.mean()\n",
    "df_new = pd.concat([df_new, mean_row.rename('Average').to_frame().T])"
   ]
  },
  {
   "cell_type": "code",
   "execution_count": null,
   "metadata": {},
   "outputs": [],
   "source": [
    "df_new.to_csv('ResponseRateJailbreakOnlyBySection.csv', index = True)"
   ]
  },
  {
   "cell_type": "markdown",
   "metadata": {},
   "source": [
    "response rate by model"
   ]
  },
  {
   "cell_type": "code",
   "execution_count": 4,
   "metadata": {},
   "outputs": [],
   "source": [
    "# origin\n",
    "df1 = pd.read_csv('report/ResponseRateOriginBySection.csv')\n",
    "df2 = pd.read_csv('report/ResponseRateJailbreakOnlyBySection.csv')\n",
    "df3 = pd.read_csv('report/ResponseRateJailbreakBySection.csv')"
   ]
  }
 ],
 "metadata": {
  "kernelspec": {
   "display_name": "Political",
   "language": "python",
   "name": "python3"
  },
  "language_info": {
   "codemirror_mode": {
    "name": "ipython",
    "version": 3
   },
   "file_extension": ".py",
   "mimetype": "text/x-python",
   "name": "python",
   "nbconvert_exporter": "python",
   "pygments_lexer": "ipython3",
   "version": "3.10.14"
  }
 },
 "nbformat": 4,
 "nbformat_minor": 2
}
