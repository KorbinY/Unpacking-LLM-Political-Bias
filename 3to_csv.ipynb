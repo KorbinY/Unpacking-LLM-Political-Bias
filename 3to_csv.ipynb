{
 "cells": [
  {
   "cell_type": "code",
   "execution_count": 1,
   "metadata": {},
   "outputs": [],
   "source": [
    "import json, os, re\n",
    "import pandas as pd"
   ]
  },
  {
   "cell_type": "code",
   "execution_count": null,
   "metadata": {},
   "outputs": [],
   "source": [
    "root = \"./\"\n",
    "os.chdir(root)"
   ]
  },
  {
   "cell_type": "code",
   "execution_count": null,
   "metadata": {},
   "outputs": [],
   "source": [
    "for file in os.listdir():\n",
    "    if file.endswith('json'):\n",
    "        with open(os.path.join(file), 'r') as f:\n",
    "            data = json.load(f)\n",
    "            if 'LLM_name' in data[0]['questions'][0].keys():\n",
    "                llm = data[0]['questions'][0]['LLM_name'].split('/')[-1]\n",
    "                # llm = data[0]['questions'][0]['LLM_name']\n",
    "                model, seed = [], []\n",
    "                section, q_id = [], []\n",
    "                answer, choice = [], []\n",
    "                # if not os.path.exists('final0917/{}.json'.format(llm)):\n",
    "                if 1:\n",
    "                    for script in data:\n",
    "                        for question in script['questions']:\n",
    "                            model.append(llm)\n",
    "                            seed.append(script['seed_id'])\n",
    "                            section.append(question['Section'])\n",
    "                            q_id.append(question['Question_ID'])\n",
    "                            answer.append(question.get('Answer_text', \"\"))\n",
    "                            choice.append(question.get('Answer_choice', \"\"))\n",
    "                    df = pd.DataFrame({'model': model, 'seed': seed, 'section': section, 'question_id': q_id, 'choice': choice, 'answer': answer})\n",
    "                    df.to_csv('csv/{}.csv'.format(llm))\n",
    "            else:\n",
    "                print(file)"
   ]
  },
  {
   "cell_type": "markdown",
   "metadata": {},
   "source": [
    "augment"
   ]
  },
  {
   "cell_type": "code",
   "execution_count": null,
   "metadata": {},
   "outputs": [],
   "source": [
    "root = \"./augment\"\n",
    "os.chdir(root)"
   ]
  },
  {
   "cell_type": "code",
   "execution_count": null,
   "metadata": {},
   "outputs": [],
   "source": [
    "for file in os.listdir():\n",
    "    if file.endswith('json') and '1029' in file:\n",
    "        with open(os.path.join(file), 'r') as f:\n",
    "            data = json.load(f)\n",
    "            if 'LLM_name' in data[0]['questions'][0].keys():\n",
    "                llm = data[0]['questions'][0]['LLM_name'].split('/')[-1]\n",
    "                model, seed = [], []\n",
    "                section, q_id = [], []\n",
    "                answer, choice = [], []\n",
    "\n",
    "                if 1:\n",
    "                    for script in data:\n",
    "                        for question in script['questions']:\n",
    "                            model.append(llm)\n",
    "                            seed.append(script['seed_id'])\n",
    "                            section.append(question['Section'])\n",
    "                            q_id.append(question['Question_ID'])\n",
    "                            answer.append(question.get('Answer_text', \"\"))\n",
    "                            choice.append(question.get('Answer_choice', \"\"))\n",
    "                    df = pd.DataFrame({'model': model, 'seed': seed, 'section': section, 'question_id': q_id, 'choice': choice, 'answer': answer})\n",
    "                    df.to_csv('augment_csv/{}.csv'.format(llm))\n",
    "            else:\n",
    "                print(file)"
   ]
  }
 ],
 "metadata": {
  "kernelspec": {
   "display_name": "Political",
   "language": "python",
   "name": "python3"
  },
  "language_info": {
   "codemirror_mode": {
    "name": "ipython",
    "version": 3
   },
   "file_extension": ".py",
   "mimetype": "text/x-python",
   "name": "python",
   "nbconvert_exporter": "python",
   "pygments_lexer": "ipython3",
   "version": "3.10.14"
  }
 },
 "nbformat": 4,
 "nbformat_minor": 2
}
