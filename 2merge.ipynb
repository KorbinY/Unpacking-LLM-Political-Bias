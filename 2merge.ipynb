{
 "cells": [
  {
   "cell_type": "code",
   "execution_count": 1,
   "metadata": {},
   "outputs": [],
   "source": [
    "import os, re, json\n",
    "from tqdm import tqdm"
   ]
  },
  {
   "cell_type": "code",
   "execution_count": null,
   "metadata": {},
   "outputs": [],
   "source": [
    "root_list = [\"hunyuan-lite\", \"hunyuan-pro\", \"hunyuan-standard\", \"ERNIE-4.0-8K\", \"ERNIE-4.0-Turbo-8K\", \"glm-4-9b-chat\", \"internlm2_5-20b-chat\", \"internlm2_5-7b-chat\", \"Baichuan2-7B-Chat\", \"Baichuan2-13B-Chat\"] + [\"gemma-2-2b-it\", \"gemma-2-9b-it\", \"gemma-2-27b-it\", \"Phi-3-medium-128k-instruct\", \"Phi-3-mini-128k-instruct\", \"Phi-3-small-128k-instruct\"]"
   ]
  },
  {
   "cell_type": "code",
   "execution_count": null,
   "metadata": {},
   "outputs": [],
   "source": [
    "for root in root_list:\n",
    "    model = root\n",
    "    root = \"./\" + root\n",
    "    script_list = os.listdir(root)\n",
    "    script_list.sort()\n",
    "\n",
    "    output = []\n",
    "\n",
    "    for script in script_list:\n",
    "        with open(os.path.join(root, script), 'r') as f:\n",
    "            data = json.load(f)\n",
    "        output.append(data)\n",
    "\n",
    "    print(root, model)\n",
    "    with open(\"{}.json\".format(os.path.join(\"./\", model)), 'w') as f:\n",
    "            json.dump(output, f, indent=4)"
   ]
  },
  {
   "cell_type": "markdown",
   "metadata": {},
   "source": [
    "augment version"
   ]
  },
  {
   "cell_type": "code",
   "execution_count": null,
   "metadata": {},
   "outputs": [],
   "source": [
    "for root in root_list:\n",
    "    model = root\n",
    "    root = \"./augment/\" + root\n",
    "    script_list = os.listdir(root)\n",
    "    script_list.sort()\n",
    "\n",
    "    output = []\n",
    "\n",
    "    for script in script_list:\n",
    "        with open(os.path.join(root, script), 'r') as f:\n",
    "            data = json.load(f)\n",
    "        output.append(data)\n",
    "\n",
    "    print(root, model)\n",
    "    with open(\"{}.json\".format(os.path.join(\"./augment\", model)), 'w') as f:\n",
    "            json.dump(output, f, indent=4)"
   ]
  }
 ],
 "metadata": {
  "kernelspec": {
   "display_name": "Political",
   "language": "python",
   "name": "python3"
  },
  "language_info": {
   "codemirror_mode": {
    "name": "ipython",
    "version": 3
   },
   "file_extension": ".py",
   "mimetype": "text/x-python",
   "name": "python",
   "nbconvert_exporter": "python",
   "pygments_lexer": "ipython3",
   "version": "3.10.14"
  }
 },
 "nbformat": 4,
 "nbformat_minor": 2
}
